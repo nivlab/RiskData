{
 "cells": [
  {
   "cell_type": "markdown",
   "metadata": {},
   "source": [
    "See ReadMe for a variable description, and the [paper](http://google.com) for the detailed data acquisition protocol. "
   ]
  },
  {
   "cell_type": "code",
   "execution_count": 1,
   "metadata": {},
   "outputs": [],
   "source": [
    "import numpy as np\n",
    "import pandas as pd"
   ]
  },
  {
   "cell_type": "code",
   "execution_count": 2,
   "metadata": {},
   "outputs": [
    {
     "name": "stdout",
     "output_type": "stream",
     "text": [
      "Risk from experience RL task was completed by 563 participants. \n",
      "\n",
      "Risk from description Holt & Laury task was completed by 563 participants. \n",
      "\n",
      "Risk from self-report DOSPERT questionnaire was completed by 563 participants. \n",
      "\n",
      "BIS-BAS questionnaire was completed by 563 participants.\n"
     ]
    }
   ],
   "source": [
    "rl = pd.read_csv('risk_from_experience_reinforcement_learning.csv', index_col = False)\n",
    "hl = pd.read_csv('risk_from_description_holt_laury.csv', index_col = False)\n",
    "dospert = pd.read_csv('risk_from_self_report_dospert.csv', index_col = False)\n",
    "bis_bas = pd.read_csv('risk_bis_bas.csv', index_col = False)\n",
    "\n",
    "print('Risk from experience RL task was completed by ' + str(np.unique(rl['subj'].values).shape[0]) + ' participants. \\n')\n",
    "print('Risk from description Holt & Laury task was completed by ' + str(np.unique(hl['subj'].values).shape[0]) + ' participants. \\n')\n",
    "print('Risk from self-report DOSPERT questionnaire was completed by ' + str(np.unique(dospert['subj'].values).shape[0]) + ' participants. \\n')\n",
    "print('BIS-BAS questionnaire was completed by ' + str(np.unique(bis_bas['subj'].values).shape[0]) + ' participants.')"
   ]
  },
  {
   "cell_type": "code",
   "execution_count": 3,
   "metadata": {},
   "outputs": [
    {
     "name": "stdout",
     "output_type": "stream",
     "text": [
      "Variables in risk-rl dataset: \n",
      "\n",
      "subj\n",
      "trial\n",
      "trialtype\n",
      "side\n",
      "response\n",
      "outcome\n",
      "rt\n",
      "version\n",
      "\n",
      "\n",
      "Variables in risk-holt-laury dataset: \n",
      "\n",
      "subj\n",
      "response\n",
      "rt\n",
      "version\n",
      "\n",
      "\n",
      "Variables in risk-dospert dataset: \n",
      "\n",
      "subj\n",
      "response\n",
      "rt\n",
      "version\n",
      "\n",
      "\n",
      "Variables in bis-bas dataset: \n",
      "\n",
      "subj\n",
      "response\n",
      "rt\n"
     ]
    }
   ],
   "source": [
    "print('Variables in risk-rl dataset: \\n')\n",
    "[print(v) for v in rl.columns];\n",
    "print('\\n')\n",
    "print('Variables in risk-holt-laury dataset: \\n')\n",
    "[print(v) for v in hl.columns];\n",
    "print('\\n')\n",
    "print('Variables in risk-dospert dataset: \\n')\n",
    "[print(v) for v in dospert.columns];\n",
    "print('\\n')\n",
    "print('Variables in bis-bas dataset: \\n')\n",
    "[print(v) for v in bis_bas.columns];"
   ]
  },
  {
   "cell_type": "code",
   "execution_count": null,
   "metadata": {},
   "outputs": [],
   "source": []
  }
 ],
 "metadata": {
  "kernelspec": {
   "display_name": "Python 3",
   "language": "python",
   "name": "python3"
  },
  "language_info": {
   "codemirror_mode": {
    "name": "ipython",
    "version": 3
   },
   "file_extension": ".py",
   "mimetype": "text/x-python",
   "name": "python",
   "nbconvert_exporter": "python",
   "pygments_lexer": "ipython3",
   "version": "3.7.1"
  }
 },
 "nbformat": 4,
 "nbformat_minor": 2
}
