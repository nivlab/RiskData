{
 "cells": [
  {
   "cell_type": "markdown",
   "metadata": {},
   "source": [
    "See ReadMe for a variable description, and the [paper](http://google.com) for the detailed data acquisition protocol. "
   ]
  },
  {
   "cell_type": "code",
   "execution_count": 4,
   "metadata": {},
   "outputs": [],
   "source": [
    "import numpy as np\n",
    "import pandas as pd"
   ]
  },
  {
   "cell_type": "code",
   "execution_count": 5,
   "metadata": {},
   "outputs": [
    {
     "name": "stdout",
     "output_type": "stream",
     "text": [
      "Risk from experience RL task was completed by 563 participants. \n",
      "\n",
      "Risk from description Holt & Laury task was completed by 563 participants. \n",
      "\n",
      "Risk from self-report DOSPERT questionnaire was completed by 563 participants. \n",
      "\n",
      "BIS-BAS questionnaire was completed by 563 participants.\n"
     ]
    }
   ],
   "source": [
    "rl = pd.read_csv('risk_from_experience_reinforcement_learning.csv', index_col = False)\n",
    "hl = pd.read_csv('risk_from_description_holt_laury.csv', index_col = False)\n",
    "dospert = pd.read_csv('risk_from_self_report_dospert.csv', index_col = False)\n",
    "bis_bas = pd.read_csv('risk_bis_bas.csv', index_col = False)\n",
    "\n",
    "print('Risk from experience RL task was completed by ' + str(np.unique(rl['subj'].values).shape[0]) + ' participants. \\n')\n",
    "print('Risk from description Holt & Laury task was completed by ' + str(np.unique(hl['subj'].values).shape[0]) + ' participants. \\n')\n",
    "print('Risk from self-report DOSPERT questionnaire was completed by ' + str(np.unique(dospert['subj'].values).shape[0]) + ' participants. \\n')\n",
    "print('BIS-BAS questionnaire was completed by ' + str(np.unique(bis_bas['subj'].values).shape[0]) + ' participants.')"
   ]
  },
  {
   "cell_type": "code",
   "execution_count": 6,
   "metadata": {},
   "outputs": [
    {
     "name": "stdout",
     "output_type": "stream",
     "text": [
      "Variables in risk-rl dataset: \n",
      "\n",
      "subj\n",
      "trial\n",
      "trialtype\n",
      "side\n",
      "response\n",
      "outcome\n",
      "rt\n",
      "version\n",
      "\n",
      "\n",
      "Variables in risk-holt-laury dataset: \n",
      "\n",
      "subj\n",
      "response\n",
      "rt\n",
      "version\n",
      "\n",
      "\n",
      "Variables in risk-dospert dataset: \n",
      "\n",
      "subj\n",
      "response\n",
      "rt\n",
      "version\n",
      "\n",
      "\n",
      "Variables in bis-bas dataset: \n",
      "\n",
      "subj\n",
      "response\n",
      "rt\n"
     ]
    }
   ],
   "source": [
    "print('Variables in risk-rl dataset: \\n')\n",
    "[print(v) for v in rl.columns];\n",
    "print('\\n')\n",
    "print('Variables in risk-holt-laury dataset: \\n')\n",
    "[print(v) for v in hl.columns];\n",
    "print('\\n')\n",
    "print('Variables in risk-dospert dataset: \\n')\n",
    "[print(v) for v in dospert.columns];\n",
    "print('\\n')\n",
    "print('Variables in bis-bas dataset: \\n')\n",
    "[print(v) for v in bis_bas.columns];"
   ]
  },
  {
   "cell_type": "code",
   "execution_count": 16,
   "metadata": {},
   "outputs": [
    {
     "data": {
      "text/html": [
       "<div>\n",
       "<style scoped>\n",
       "    .dataframe tbody tr th:only-of-type {\n",
       "        vertical-align: middle;\n",
       "    }\n",
       "\n",
       "    .dataframe tbody tr th {\n",
       "        vertical-align: top;\n",
       "    }\n",
       "\n",
       "    .dataframe thead th {\n",
       "        text-align: right;\n",
       "    }\n",
       "</style>\n",
       "<table border=\"1\" class=\"dataframe\">\n",
       "  <thead>\n",
       "    <tr style=\"text-align: right;\">\n",
       "      <th></th>\n",
       "      <th>subj</th>\n",
       "      <th>response</th>\n",
       "      <th>rt</th>\n",
       "      <th>version</th>\n",
       "    </tr>\n",
       "  </thead>\n",
       "  <tbody>\n",
       "    <tr>\n",
       "      <th>0</th>\n",
       "      <td>1</td>\n",
       "      <td>4</td>\n",
       "      <td>6141</td>\n",
       "      <td>4</td>\n",
       "    </tr>\n",
       "    <tr>\n",
       "      <th>1</th>\n",
       "      <td>1</td>\n",
       "      <td>7</td>\n",
       "      <td>2256</td>\n",
       "      <td>4</td>\n",
       "    </tr>\n",
       "    <tr>\n",
       "      <th>2</th>\n",
       "      <td>1</td>\n",
       "      <td>1</td>\n",
       "      <td>2046</td>\n",
       "      <td>4</td>\n",
       "    </tr>\n",
       "    <tr>\n",
       "      <th>3</th>\n",
       "      <td>1</td>\n",
       "      <td>6</td>\n",
       "      <td>2250</td>\n",
       "      <td>4</td>\n",
       "    </tr>\n",
       "    <tr>\n",
       "      <th>4</th>\n",
       "      <td>1</td>\n",
       "      <td>2</td>\n",
       "      <td>2803</td>\n",
       "      <td>4</td>\n",
       "    </tr>\n",
       "    <tr>\n",
       "      <th>...</th>\n",
       "      <td>...</td>\n",
       "      <td>...</td>\n",
       "      <td>...</td>\n",
       "      <td>...</td>\n",
       "    </tr>\n",
       "    <tr>\n",
       "      <th>87</th>\n",
       "      <td>1</td>\n",
       "      <td>3</td>\n",
       "      <td>2091</td>\n",
       "      <td>4</td>\n",
       "    </tr>\n",
       "    <tr>\n",
       "      <th>88</th>\n",
       "      <td>1</td>\n",
       "      <td>2</td>\n",
       "      <td>1618</td>\n",
       "      <td>4</td>\n",
       "    </tr>\n",
       "    <tr>\n",
       "      <th>89</th>\n",
       "      <td>1</td>\n",
       "      <td>6</td>\n",
       "      <td>2440</td>\n",
       "      <td>4</td>\n",
       "    </tr>\n",
       "    <tr>\n",
       "      <th>90</th>\n",
       "      <td>1</td>\n",
       "      <td>1</td>\n",
       "      <td>1892</td>\n",
       "      <td>4</td>\n",
       "    </tr>\n",
       "    <tr>\n",
       "      <th>91</th>\n",
       "      <td>1</td>\n",
       "      <td>1</td>\n",
       "      <td>2491</td>\n",
       "      <td>4</td>\n",
       "    </tr>\n",
       "  </tbody>\n",
       "</table>\n",
       "<p>92 rows × 4 columns</p>\n",
       "</div>"
      ],
      "text/plain": [
       "    subj  response    rt  version\n",
       "0      1         4  6141        4\n",
       "1      1         7  2256        4\n",
       "2      1         1  2046        4\n",
       "3      1         6  2250        4\n",
       "4      1         2  2803        4\n",
       "..   ...       ...   ...      ...\n",
       "87     1         3  2091        4\n",
       "88     1         2  1618        4\n",
       "89     1         6  2440        4\n",
       "90     1         1  1892        4\n",
       "91     1         1  2491        4\n",
       "\n",
       "[92 rows x 4 columns]"
      ]
     },
     "execution_count": 16,
     "metadata": {},
     "output_type": "execute_result"
    }
   ],
   "source": [
    "dospert[dospert['subj'] == 1]"
   ]
  },
  {
   "cell_type": "code",
   "execution_count": null,
   "metadata": {},
   "outputs": [],
   "source": []
  }
 ],
 "metadata": {
  "kernelspec": {
   "display_name": "Python 3",
   "language": "python",
   "name": "python3"
  },
  "language_info": {
   "codemirror_mode": {
    "name": "ipython",
    "version": 3
   },
   "file_extension": ".py",
   "mimetype": "text/x-python",
   "name": "python",
   "nbconvert_exporter": "python",
   "pygments_lexer": "ipython3",
   "version": "3.7.1"
  }
 },
 "nbformat": 4,
 "nbformat_minor": 2
}
